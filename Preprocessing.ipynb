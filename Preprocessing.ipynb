{
 "cells": [
  {
   "cell_type": "code",
   "execution_count": 131,
   "id": "090a85fc",
   "metadata": {},
   "outputs": [],
   "source": [
    "import warnings\n",
    "warnings.filterwarnings(\"ignore\")\n",
    "import librosa \n",
    "from scipy.io import wavfile as wav\n",
    "import numpy as np\n",
    "import pandas as pd\n",
    "import matplotlib.pyplot as plt\n",
    "import glob\n",
    "import os\n",
    "from mutagen.wave import WAVE\n",
    "from pyAudioAnalysis import audioBasicIO as aIO\n",
    "from pyAudioAnalysis import audioSegmentation as aS\n",
    "from pydub.silence import split_on_silence\n",
    "from pydub import AudioSegment, effects \n",
    "from scipy.io.wavfile import read, write\n",
    "from sklearn.preprocessing import OneHotEncoder"
   ]
  },
  {
   "cell_type": "markdown",
   "id": "29f92dfa",
   "metadata": {},
   "source": [
    "# Get all audio files in Dataframe with its label (The language)"
   ]
  },
  {
   "cell_type": "markdown",
   "id": "75d8cb7c",
   "metadata": {},
   "source": [
    "## English"
   ]
  },
  {
   "cell_type": "code",
   "execution_count": 39,
   "id": "0c295dbf",
   "metadata": {},
   "outputs": [],
   "source": [
    "dfEn = pd.read_csv('english_df.csv')"
   ]
  },
  {
   "cell_type": "code",
   "execution_count": null,
   "id": "19fa920b",
   "metadata": {},
   "outputs": [],
   "source": [
    "Fname = []\n",
    "# return all files as a list\n",
    "for file in os.listdir(r'en/'):\n",
    "    \n",
    "    # check the files which are end with specific extension\n",
    "    if file.endswith(\".wav\"):\n",
    "        \n",
    "        # check the files which are its duration greater than 10 seconds\n",
    "        samplerate, data = read(r'en/'+file)\n",
    "        duration = len(data)/samplerate\n",
    "        \n",
    "        if duration < 10:\n",
    "            continue\n",
    "        \n",
    "        else:\n",
    "            #Note the processed audio rate is not the same - it would be 1K\n",
    "            [Fs, x] = aIO.read_audio_file(r'en/'+file)\n",
    "            segments = aS.silence_removal(x, \n",
    "                                 Fs, \n",
    "                                 0.020, \n",
    "                                 0.020, \n",
    "                                 smooth_window=1.0, \n",
    "                                 weight=0.3)\n",
    "            # audio length\n",
    "            samplerate, data = read(r'en/'+file)\n",
    "            # Duration of the audio in Seconds\n",
    "            duration = len(data)/samplerate\n",
    "            silence=0\n",
    "            arrLen= len(segments)\n",
    "            for i in range(arrLen-1):\n",
    "                if  i > arrLen-1:\n",
    "                    break;\n",
    "                else:\n",
    "                    silence=silence+(segments[i+1][0]-segments[i][1])\n",
    "            silence= silence+(duration-segments[arrLen-1][1])\n",
    "            if silence/duration < 0.50:\n",
    "            # print path name of selected files\n",
    "                Fname.append(file)"
   ]
  },
  {
   "cell_type": "code",
   "execution_count": null,
   "id": "5de14a77",
   "metadata": {},
   "outputs": [],
   "source": [
    "dfEn = pd.DataFrame (Fname, columns = ['name'])\n",
    "dfEn['class_name'] = 'English'\n",
    "dfEn.head()"
   ]
  },
  {
   "cell_type": "code",
   "execution_count": 37,
   "id": "d3fb0a4a",
   "metadata": {},
   "outputs": [
    {
     "data": {
      "text/plain": [
       "(8533, 2)"
      ]
     },
     "execution_count": 37,
     "metadata": {},
     "output_type": "execute_result"
    }
   ],
   "source": [
    "dfEn.shape"
   ]
  },
  {
   "cell_type": "code",
   "execution_count": null,
   "id": "c333bec3",
   "metadata": {},
   "outputs": [],
   "source": [
    "dfEn.to_csv('english_df.csv', index=False)"
   ]
  },
  {
   "cell_type": "markdown",
   "id": "1e96273a",
   "metadata": {},
   "source": [
    "## Arabic"
   ]
  },
  {
   "cell_type": "code",
   "execution_count": 5,
   "id": "5bd9ae36",
   "metadata": {},
   "outputs": [],
   "source": [
    "Fname = []\n",
    "# return all files as a list\n",
    "for file in os.listdir(r'ar/'):\n",
    "    \n",
    "    # check the files which are end with specific extension\n",
    "    if file.endswith(\".wav\"):\n",
    "        \n",
    "        # check the files which are its duration greater than 10 seconds\n",
    "        samplerate, data = read(r'ar/'+file)\n",
    "        duration = len(data)/samplerate\n",
    "        \n",
    "        if duration < 10:\n",
    "            continue\n",
    "        \n",
    "        else:\n",
    "            #Note the processed audio rate is not the same - it would be 1K\n",
    "            [Fs, x] = aIO.read_audio_file(r'ar/'+file)\n",
    "            segments = aS.silence_removal(x, \n",
    "                                 Fs, \n",
    "                                 0.020, \n",
    "                                 0.020, \n",
    "                                 smooth_window=1.0, \n",
    "                                 weight=0.3)\n",
    "            # audio length\n",
    "            samplerate, data = read(r'ar/'+file)\n",
    "            # Duration of the audio in Seconds\n",
    "            duration = len(data)/samplerate\n",
    "            silence=0\n",
    "            arrLen= len(segments)\n",
    "            for i in range(arrLen-1):\n",
    "                if  i > arrLen-1:\n",
    "                    break;\n",
    "                else:\n",
    "                    silence=silence+(segments[i+1][0]-segments[i][1])\n",
    "            silence= silence+(duration-segments[arrLen-1][1])\n",
    "            if silence/duration < 0.50:\n",
    "            # print path name of selected files\n",
    "                Fname.append(file)"
   ]
  },
  {
   "cell_type": "code",
   "execution_count": 6,
   "id": "83b7d64b",
   "metadata": {},
   "outputs": [
    {
     "data": {
      "text/html": [
       "<div>\n",
       "<style scoped>\n",
       "    .dataframe tbody tr th:only-of-type {\n",
       "        vertical-align: middle;\n",
       "    }\n",
       "\n",
       "    .dataframe tbody tr th {\n",
       "        vertical-align: top;\n",
       "    }\n",
       "\n",
       "    .dataframe thead th {\n",
       "        text-align: right;\n",
       "    }\n",
       "</style>\n",
       "<table border=\"1\" class=\"dataframe\">\n",
       "  <thead>\n",
       "    <tr style=\"text-align: right;\">\n",
       "      <th></th>\n",
       "      <th>name</th>\n",
       "      <th>class_name</th>\n",
       "    </tr>\n",
       "  </thead>\n",
       "  <tbody>\n",
       "    <tr>\n",
       "      <th>0</th>\n",
       "      <td>Co57X8B6Tvs__U__S102---0355.800-0368.650.wav</td>\n",
       "      <td>Arabic</td>\n",
       "    </tr>\n",
       "    <tr>\n",
       "      <th>1</th>\n",
       "      <td>aIipDS4OQ2c__U__S31---0216.370-0232.020.wav</td>\n",
       "      <td>Arabic</td>\n",
       "    </tr>\n",
       "    <tr>\n",
       "      <th>2</th>\n",
       "      <td>CP0JrlvC6rM__U__S47---0411.110-0421.900.wav</td>\n",
       "      <td>Arabic</td>\n",
       "    </tr>\n",
       "    <tr>\n",
       "      <th>3</th>\n",
       "      <td>0PWJ-UYv-ys__U__S17---0074.970-0087.380.wav</td>\n",
       "      <td>Arabic</td>\n",
       "    </tr>\n",
       "    <tr>\n",
       "      <th>4</th>\n",
       "      <td>GyypH9HLpEs__U__S331---2076.300-2089.240.wav</td>\n",
       "      <td>Arabic</td>\n",
       "    </tr>\n",
       "  </tbody>\n",
       "</table>\n",
       "</div>"
      ],
      "text/plain": [
       "                                           name class_name\n",
       "0  Co57X8B6Tvs__U__S102---0355.800-0368.650.wav     Arabic\n",
       "1   aIipDS4OQ2c__U__S31---0216.370-0232.020.wav     Arabic\n",
       "2   CP0JrlvC6rM__U__S47---0411.110-0421.900.wav     Arabic\n",
       "3   0PWJ-UYv-ys__U__S17---0074.970-0087.380.wav     Arabic\n",
       "4  GyypH9HLpEs__U__S331---2076.300-2089.240.wav     Arabic"
      ]
     },
     "execution_count": 6,
     "metadata": {},
     "output_type": "execute_result"
    }
   ],
   "source": [
    "dfAr = pd.DataFrame (Fname, columns = ['name'])\n",
    "dfAr['class_name'] = 'Arabic'\n",
    "dfAr.head()"
   ]
  },
  {
   "cell_type": "code",
   "execution_count": 7,
   "id": "d3236618",
   "metadata": {},
   "outputs": [
    {
     "data": {
      "text/plain": [
       "(9216, 2)"
      ]
     },
     "execution_count": 7,
     "metadata": {},
     "output_type": "execute_result"
    }
   ],
   "source": [
    "dfAr.shape"
   ]
  },
  {
   "cell_type": "code",
   "execution_count": 8,
   "id": "9317d7de",
   "metadata": {},
   "outputs": [],
   "source": [
    "dfAr.to_csv('arabic_df.csv', index=False)"
   ]
  },
  {
   "cell_type": "markdown",
   "id": "552e883a",
   "metadata": {},
   "source": [
    "## Korean"
   ]
  },
  {
   "cell_type": "code",
   "execution_count": 9,
   "id": "06740f3a",
   "metadata": {},
   "outputs": [],
   "source": [
    "Fname = []\n",
    "# return all files as a list\n",
    "for file in os.listdir(r'ko/'):\n",
    "    \n",
    "    # check the files which are end with specific extension\n",
    "    if file.endswith(\".wav\"):\n",
    "        \n",
    "        # check the files which are its duration greater than 10 seconds\n",
    "        samplerate, data = read(r'ko/'+file)\n",
    "        duration = len(data)/samplerate\n",
    "        \n",
    "        if duration < 10:\n",
    "            continue\n",
    "        \n",
    "        else:\n",
    "            #Note the processed audio rate is not the same - it would be 1K\n",
    "            [Fs, x] = aIO.read_audio_file(r'ko/'+file)\n",
    "            segments = aS.silence_removal(x, \n",
    "                                 Fs, \n",
    "                                 0.020, \n",
    "                                 0.020, \n",
    "                                 smooth_window=1.0, \n",
    "                                 weight=0.3)\n",
    "            # audio length\n",
    "            samplerate, data = read(r'ko/'+file)\n",
    "            # Duration of the audio in Seconds\n",
    "            duration = len(data)/samplerate\n",
    "            silence=0\n",
    "            arrLen= len(segments)\n",
    "            for i in range(arrLen-1):\n",
    "                if  i > arrLen-1:\n",
    "                    break;\n",
    "                else:\n",
    "                    silence=silence+(segments[i+1][0]-segments[i][1])\n",
    "            silence= silence+(duration-segments[arrLen-1][1])\n",
    "            if silence/duration < 0.50:\n",
    "            # print path name of selected files\n",
    "                Fname.append(file)"
   ]
  },
  {
   "cell_type": "code",
   "execution_count": 10,
   "id": "10ab0bb3",
   "metadata": {},
   "outputs": [
    {
     "data": {
      "text/html": [
       "<div>\n",
       "<style scoped>\n",
       "    .dataframe tbody tr th:only-of-type {\n",
       "        vertical-align: middle;\n",
       "    }\n",
       "\n",
       "    .dataframe tbody tr th {\n",
       "        vertical-align: top;\n",
       "    }\n",
       "\n",
       "    .dataframe thead th {\n",
       "        text-align: right;\n",
       "    }\n",
       "</style>\n",
       "<table border=\"1\" class=\"dataframe\">\n",
       "  <thead>\n",
       "    <tr style=\"text-align: right;\">\n",
       "      <th></th>\n",
       "      <th>name</th>\n",
       "      <th>class_name</th>\n",
       "    </tr>\n",
       "  </thead>\n",
       "  <tbody>\n",
       "    <tr>\n",
       "      <th>0</th>\n",
       "      <td>z6B2GrcqUvM__U__S0---0176.100-0192.090.wav</td>\n",
       "      <td>Korean</td>\n",
       "    </tr>\n",
       "    <tr>\n",
       "      <th>1</th>\n",
       "      <td>tO1xkcNbsB4__U__S103---0473.100-0483.500.wav</td>\n",
       "      <td>Korean</td>\n",
       "    </tr>\n",
       "    <tr>\n",
       "      <th>2</th>\n",
       "      <td>fqv7wkunopk__U__S100---1854.210-1866.660.wav</td>\n",
       "      <td>Korean</td>\n",
       "    </tr>\n",
       "    <tr>\n",
       "      <th>3</th>\n",
       "      <td>Hfj6C893PMc__U__S0---0382.790-0401.400.wav</td>\n",
       "      <td>Korean</td>\n",
       "    </tr>\n",
       "    <tr>\n",
       "      <th>4</th>\n",
       "      <td>T9dfFfeFJlA__U__S0---0275.200-0288.980.wav</td>\n",
       "      <td>Korean</td>\n",
       "    </tr>\n",
       "  </tbody>\n",
       "</table>\n",
       "</div>"
      ],
      "text/plain": [
       "                                           name class_name\n",
       "0    z6B2GrcqUvM__U__S0---0176.100-0192.090.wav     Korean\n",
       "1  tO1xkcNbsB4__U__S103---0473.100-0483.500.wav     Korean\n",
       "2  fqv7wkunopk__U__S100---1854.210-1866.660.wav     Korean\n",
       "3    Hfj6C893PMc__U__S0---0382.790-0401.400.wav     Korean\n",
       "4    T9dfFfeFJlA__U__S0---0275.200-0288.980.wav     Korean"
      ]
     },
     "execution_count": 10,
     "metadata": {},
     "output_type": "execute_result"
    }
   ],
   "source": [
    "dfKo = pd.DataFrame (Fname, columns = ['name'])\n",
    "dfKo['class_name'] = 'Korean'\n",
    "dfKo.head()"
   ]
  },
  {
   "cell_type": "code",
   "execution_count": 11,
   "id": "34bc83c9",
   "metadata": {},
   "outputs": [
    {
     "data": {
      "text/plain": [
       "(11073, 2)"
      ]
     },
     "execution_count": 11,
     "metadata": {},
     "output_type": "execute_result"
    }
   ],
   "source": [
    "dfKo.shape"
   ]
  },
  {
   "cell_type": "code",
   "execution_count": 12,
   "id": "dbea30ac",
   "metadata": {},
   "outputs": [],
   "source": [
    "dfKo.to_csv('korean_df.csv', index=False)"
   ]
  },
  {
   "cell_type": "markdown",
   "id": "5216a5cc",
   "metadata": {},
   "source": [
    "## Japanese "
   ]
  },
  {
   "cell_type": "code",
   "execution_count": 21,
   "id": "cf1985c6",
   "metadata": {},
   "outputs": [],
   "source": [
    "Fname = []\n",
    "# return all files as a list\n",
    "for file in os.listdir(r'ja/'):\n",
    "    \n",
    "    # check the files which are end with specific extension\n",
    "    if file.endswith(\".wav\"):\n",
    "        \n",
    "        # check the files which are its duration greater than 10 seconds\n",
    "        samplerate, data = read(r'ja/'+file)\n",
    "        duration = len(data)/samplerate\n",
    "        \n",
    "        if duration < 10:\n",
    "            continue\n",
    "        \n",
    "        else:\n",
    "            #Note the processed audio rate is not the same - it would be 1K\n",
    "            [Fs, x] = aIO.read_audio_file(r'ja/'+file)\n",
    "            segments = aS.silence_removal(x, \n",
    "                                 Fs, \n",
    "                                 0.020, \n",
    "                                 0.020, \n",
    "                                 smooth_window=1.0, \n",
    "                                 weight=0.3)\n",
    "            # audio length\n",
    "            samplerate, data = read(r'ja/'+file)\n",
    "            # Duration of the audio in Seconds\n",
    "            duration = len(data)/samplerate\n",
    "            silence=0\n",
    "            arrLen= len(segments)\n",
    "            for i in range(arrLen-1):\n",
    "                if  i > arrLen-1:\n",
    "                    break;\n",
    "                else:\n",
    "                    silence=silence+(segments[i+1][0]-segments[i][1])\n",
    "            silence= silence+(duration-segments[arrLen-1][1])\n",
    "            if silence/duration < 0.50:\n",
    "            # print path name of selected files\n",
    "                Fname.append(file)"
   ]
  },
  {
   "cell_type": "code",
   "execution_count": 22,
   "id": "05112e42",
   "metadata": {},
   "outputs": [
    {
     "data": {
      "text/html": [
       "<div>\n",
       "<style scoped>\n",
       "    .dataframe tbody tr th:only-of-type {\n",
       "        vertical-align: middle;\n",
       "    }\n",
       "\n",
       "    .dataframe tbody tr th {\n",
       "        vertical-align: top;\n",
       "    }\n",
       "\n",
       "    .dataframe thead th {\n",
       "        text-align: right;\n",
       "    }\n",
       "</style>\n",
       "<table border=\"1\" class=\"dataframe\">\n",
       "  <thead>\n",
       "    <tr style=\"text-align: right;\">\n",
       "      <th></th>\n",
       "      <th>name</th>\n",
       "      <th>class_name</th>\n",
       "    </tr>\n",
       "  </thead>\n",
       "  <tbody>\n",
       "    <tr>\n",
       "      <th>0</th>\n",
       "      <td>HWJpAxevpkg__U__S1---0386.100-0399.820.wav</td>\n",
       "      <td>Japanese</td>\n",
       "    </tr>\n",
       "    <tr>\n",
       "      <th>1</th>\n",
       "      <td>ypIp_FM7rPs__U__S12---0089.610-0109.260.wav</td>\n",
       "      <td>Japanese</td>\n",
       "    </tr>\n",
       "    <tr>\n",
       "      <th>2</th>\n",
       "      <td>posunnHFpN4__U__S1---0169.370-0187.120.wav</td>\n",
       "      <td>Japanese</td>\n",
       "    </tr>\n",
       "    <tr>\n",
       "      <th>3</th>\n",
       "      <td>CEX0yciDKYw__U__S282---1696.760-1711.940.wav</td>\n",
       "      <td>Japanese</td>\n",
       "    </tr>\n",
       "    <tr>\n",
       "      <th>4</th>\n",
       "      <td>1ycN4wvzBts__U__S1---0094.510-0104.600.wav</td>\n",
       "      <td>Japanese</td>\n",
       "    </tr>\n",
       "  </tbody>\n",
       "</table>\n",
       "</div>"
      ],
      "text/plain": [
       "                                           name class_name\n",
       "0    HWJpAxevpkg__U__S1---0386.100-0399.820.wav   Japanese\n",
       "1   ypIp_FM7rPs__U__S12---0089.610-0109.260.wav   Japanese\n",
       "2    posunnHFpN4__U__S1---0169.370-0187.120.wav   Japanese\n",
       "3  CEX0yciDKYw__U__S282---1696.760-1711.940.wav   Japanese\n",
       "4    1ycN4wvzBts__U__S1---0094.510-0104.600.wav   Japanese"
      ]
     },
     "execution_count": 22,
     "metadata": {},
     "output_type": "execute_result"
    }
   ],
   "source": [
    "dfJa = pd.DataFrame (Fname, columns = ['name'])\n",
    "dfJa['class_name'] = 'Japanese'\n",
    "dfJa.head()"
   ]
  },
  {
   "cell_type": "code",
   "execution_count": 23,
   "id": "8041bc75",
   "metadata": {},
   "outputs": [
    {
     "data": {
      "text/plain": [
       "(8035, 2)"
      ]
     },
     "execution_count": 23,
     "metadata": {},
     "output_type": "execute_result"
    }
   ],
   "source": [
    "dfJa.shape"
   ]
  },
  {
   "cell_type": "code",
   "execution_count": 24,
   "id": "52bb4c2b",
   "metadata": {},
   "outputs": [],
   "source": [
    "dfJa.to_csv('japanese_df.csv', index=False)"
   ]
  },
  {
   "cell_type": "markdown",
   "id": "5bc2276d",
   "metadata": {},
   "source": [
    "## Turkish"
   ]
  },
  {
   "cell_type": "code",
   "execution_count": 25,
   "id": "47436fc8",
   "metadata": {},
   "outputs": [],
   "source": [
    "Fname = []\n",
    "# return all files as a list\n",
    "for file in os.listdir(r'tr/'):\n",
    "    \n",
    "    # check the files which are end with specific extension\n",
    "    if file.endswith(\".wav\"):\n",
    "        \n",
    "        # check the files which are its duration greater than 10 seconds\n",
    "        samplerate, data = read(r'tr/'+file)\n",
    "        duration = len(data)/samplerate\n",
    "        \n",
    "        if duration < 10:\n",
    "            continue\n",
    "        \n",
    "        else:\n",
    "            #Note the processed audio rate is not the same - it would be 1K\n",
    "            [Fs, x] = aIO.read_audio_file(r'tr/'+file)\n",
    "            segments = aS.silence_removal(x, \n",
    "                                 Fs, \n",
    "                                 0.020, \n",
    "                                 0.020, \n",
    "                                 smooth_window=1.0, \n",
    "                                 weight=0.3)\n",
    "            # audio length\n",
    "            samplerate, data = read(r'tr/'+file)\n",
    "            # Duration of the audio in Seconds\n",
    "            duration = len(data)/samplerate\n",
    "            silence=0\n",
    "            arrLen= len(segments)\n",
    "            for i in range(arrLen-1):\n",
    "                if  i > arrLen-1:\n",
    "                    break;\n",
    "                else:\n",
    "                    silence=silence+(segments[i+1][0]-segments[i][1])\n",
    "            silence= silence+(duration-segments[arrLen-1][1])\n",
    "            if silence/duration < 0.50:\n",
    "            # print path name of selected files\n",
    "                Fname.append(file)"
   ]
  },
  {
   "cell_type": "code",
   "execution_count": 26,
   "id": "fb2a4e2e",
   "metadata": {},
   "outputs": [
    {
     "data": {
      "text/html": [
       "<div>\n",
       "<style scoped>\n",
       "    .dataframe tbody tr th:only-of-type {\n",
       "        vertical-align: middle;\n",
       "    }\n",
       "\n",
       "    .dataframe tbody tr th {\n",
       "        vertical-align: top;\n",
       "    }\n",
       "\n",
       "    .dataframe thead th {\n",
       "        text-align: right;\n",
       "    }\n",
       "</style>\n",
       "<table border=\"1\" class=\"dataframe\">\n",
       "  <thead>\n",
       "    <tr style=\"text-align: right;\">\n",
       "      <th></th>\n",
       "      <th>name</th>\n",
       "      <th>class_name</th>\n",
       "    </tr>\n",
       "  </thead>\n",
       "  <tbody>\n",
       "    <tr>\n",
       "      <th>0</th>\n",
       "      <td>3VwxgGV6icE__U__S113---0557.120-0571.980.wav</td>\n",
       "      <td>Turkish</td>\n",
       "    </tr>\n",
       "    <tr>\n",
       "      <th>1</th>\n",
       "      <td>HLUxZ97rAZc__U__S11---0511.280-0530.670.wav</td>\n",
       "      <td>Turkish</td>\n",
       "    </tr>\n",
       "    <tr>\n",
       "      <th>2</th>\n",
       "      <td>BG6pah6_7BU__U__S15---0161.900-0177.740.wav</td>\n",
       "      <td>Turkish</td>\n",
       "    </tr>\n",
       "    <tr>\n",
       "      <th>3</th>\n",
       "      <td>JvgqlZQt6ns__U__S11---0062.090-0072.980.wav</td>\n",
       "      <td>Turkish</td>\n",
       "    </tr>\n",
       "    <tr>\n",
       "      <th>4</th>\n",
       "      <td>5D4OAfte1Xg__U__S11---0324.610-0343.910.wav</td>\n",
       "      <td>Turkish</td>\n",
       "    </tr>\n",
       "  </tbody>\n",
       "</table>\n",
       "</div>"
      ],
      "text/plain": [
       "                                           name class_name\n",
       "0  3VwxgGV6icE__U__S113---0557.120-0571.980.wav    Turkish\n",
       "1   HLUxZ97rAZc__U__S11---0511.280-0530.670.wav    Turkish\n",
       "2   BG6pah6_7BU__U__S15---0161.900-0177.740.wav    Turkish\n",
       "3   JvgqlZQt6ns__U__S11---0062.090-0072.980.wav    Turkish\n",
       "4   5D4OAfte1Xg__U__S11---0324.610-0343.910.wav    Turkish"
      ]
     },
     "execution_count": 26,
     "metadata": {},
     "output_type": "execute_result"
    }
   ],
   "source": [
    "dfTr = pd.DataFrame (Fname, columns = ['name'])\n",
    "dfTr['class_name'] = 'Turkish'\n",
    "dfTr.head()"
   ]
  },
  {
   "cell_type": "code",
   "execution_count": 27,
   "id": "37dfd230",
   "metadata": {},
   "outputs": [
    {
     "data": {
      "text/plain": [
       "(8838, 2)"
      ]
     },
     "execution_count": 27,
     "metadata": {},
     "output_type": "execute_result"
    }
   ],
   "source": [
    "dfTr.shape"
   ]
  },
  {
   "cell_type": "code",
   "execution_count": 28,
   "id": "99b4220b",
   "metadata": {},
   "outputs": [],
   "source": [
    "dfTr.to_csv('turkish_df.csv', index=False)"
   ]
  },
  {
   "cell_type": "markdown",
   "id": "b60555c1",
   "metadata": {},
   "source": [
    "## Spanish"
   ]
  },
  {
   "cell_type": "code",
   "execution_count": 29,
   "id": "e184016c",
   "metadata": {},
   "outputs": [],
   "source": [
    "Fname = []\n",
    "# return all files as a list\n",
    "for file in os.listdir(r'es/'):\n",
    "    \n",
    "    # check the files which are end with specific extension\n",
    "    if file.endswith(\".wav\"):\n",
    "        \n",
    "        # check the files which are its duration greater than 10 seconds\n",
    "        samplerate, data = read(r'es/'+file)\n",
    "        duration = len(data)/samplerate\n",
    "        \n",
    "        if duration < 10:\n",
    "            continue\n",
    "        \n",
    "        else:\n",
    "            #Note the processed audio rate is not the same - it would be 1K\n",
    "            [Fs, x] = aIO.read_audio_file(r'es/'+file)\n",
    "            segments = aS.silence_removal(x, \n",
    "                                 Fs, \n",
    "                                 0.020, \n",
    "                                 0.020, \n",
    "                                 smooth_window=1.0, \n",
    "                                 weight=0.3)\n",
    "            # audio length\n",
    "            samplerate, data = read(r'es/'+file)\n",
    "            # Duration of the audio in Seconds\n",
    "            duration = len(data)/samplerate\n",
    "            silence=0\n",
    "            arrLen= len(segments)\n",
    "            for i in range(arrLen-1):\n",
    "                if  i > arrLen-1:\n",
    "                    break;\n",
    "                else:\n",
    "                    silence=silence+(segments[i+1][0]-segments[i][1])\n",
    "            silence= silence+(duration-segments[arrLen-1][1])\n",
    "            if silence/duration < 0.50:\n",
    "            # print path name of selected files\n",
    "                Fname.append(file)"
   ]
  },
  {
   "cell_type": "code",
   "execution_count": 30,
   "id": "75dcb2de",
   "metadata": {},
   "outputs": [
    {
     "data": {
      "text/html": [
       "<div>\n",
       "<style scoped>\n",
       "    .dataframe tbody tr th:only-of-type {\n",
       "        vertical-align: middle;\n",
       "    }\n",
       "\n",
       "    .dataframe tbody tr th {\n",
       "        vertical-align: top;\n",
       "    }\n",
       "\n",
       "    .dataframe thead th {\n",
       "        text-align: right;\n",
       "    }\n",
       "</style>\n",
       "<table border=\"1\" class=\"dataframe\">\n",
       "  <thead>\n",
       "    <tr style=\"text-align: right;\">\n",
       "      <th></th>\n",
       "      <th>name</th>\n",
       "      <th>class_name</th>\n",
       "    </tr>\n",
       "  </thead>\n",
       "  <tbody>\n",
       "    <tr>\n",
       "      <th>0</th>\n",
       "      <td>CFJoUTffiTE__U__S102---0514.300-0525.870.wav</td>\n",
       "      <td>Spanish</td>\n",
       "    </tr>\n",
       "    <tr>\n",
       "      <th>1</th>\n",
       "      <td>KhxyzoGajzk__U__S24---0083.660-0102.450.wav</td>\n",
       "      <td>Spanish</td>\n",
       "    </tr>\n",
       "    <tr>\n",
       "      <th>2</th>\n",
       "      <td>8EooNSe0oA4__U__S114---0019.710-0033.130.wav</td>\n",
       "      <td>Spanish</td>\n",
       "    </tr>\n",
       "    <tr>\n",
       "      <th>3</th>\n",
       "      <td>97y8hIPuKf0__U__S1---0444.060-0463.540.wav</td>\n",
       "      <td>Spanish</td>\n",
       "    </tr>\n",
       "    <tr>\n",
       "      <th>4</th>\n",
       "      <td>tm4qk4c3wK0__U__S159---0750.940-0766.680.wav</td>\n",
       "      <td>Spanish</td>\n",
       "    </tr>\n",
       "  </tbody>\n",
       "</table>\n",
       "</div>"
      ],
      "text/plain": [
       "                                           name class_name\n",
       "0  CFJoUTffiTE__U__S102---0514.300-0525.870.wav    Spanish\n",
       "1   KhxyzoGajzk__U__S24---0083.660-0102.450.wav    Spanish\n",
       "2  8EooNSe0oA4__U__S114---0019.710-0033.130.wav    Spanish\n",
       "3    97y8hIPuKf0__U__S1---0444.060-0463.540.wav    Spanish\n",
       "4  tm4qk4c3wK0__U__S159---0750.940-0766.680.wav    Spanish"
      ]
     },
     "execution_count": 30,
     "metadata": {},
     "output_type": "execute_result"
    }
   ],
   "source": [
    "dfSp = pd.DataFrame (Fname, columns = ['name'])\n",
    "dfSp['class_name'] = 'Spanish'\n",
    "dfSp.head()"
   ]
  },
  {
   "cell_type": "code",
   "execution_count": 31,
   "id": "ea33f075",
   "metadata": {},
   "outputs": [
    {
     "data": {
      "text/plain": [
       "(6667, 2)"
      ]
     },
     "execution_count": 31,
     "metadata": {},
     "output_type": "execute_result"
    }
   ],
   "source": [
    "dfSp.shape"
   ]
  },
  {
   "cell_type": "code",
   "execution_count": 32,
   "id": "ac255e32",
   "metadata": {},
   "outputs": [],
   "source": [
    "dfSp.to_csv('spanish.csv', index=False)"
   ]
  },
  {
   "cell_type": "markdown",
   "id": "1a079a44",
   "metadata": {},
   "source": [
    "# Extract Features for every file (Mel-Frequency Cepstral Coefficients (MFCC))"
   ]
  },
  {
   "cell_type": "markdown",
   "id": "01b47c57",
   "metadata": {},
   "source": [
    "# without padding "
   ]
  },
  {
   "cell_type": "code",
   "execution_count": 132,
   "id": "ab98ae66",
   "metadata": {},
   "outputs": [],
   "source": [
    "def extract_features(file_name):\n",
    "    try:\n",
    "        audio, sample_rate = librosa.load(file_name, res_type='kaiser_fast') \n",
    "        mfccs = librosa.feature.mfcc(y=audio, sr=sample_rate, n_mfcc=40)\n",
    "        mfccsscaled = np.mean(mfccs.T,axis=0)\n",
    "        \n",
    "    except Exception as e:\n",
    "        print(\"Error encountered while parsing file: \", file)\n",
    "        return None \n",
    "     \n",
    "    return mfccsscaled"
   ]
  },
  {
   "cell_type": "markdown",
   "id": "71856ac0",
   "metadata": {},
   "source": [
    "## Arabic "
   ]
  },
  {
   "cell_type": "code",
   "execution_count": null,
   "id": "c9dc292c",
   "metadata": {},
   "outputs": [],
   "source": [
    "dfAr=pd.read_csv('arabic_df.csv')"
   ]
  },
  {
   "cell_type": "code",
   "execution_count": null,
   "id": "182876a3",
   "metadata": {},
   "outputs": [],
   "source": [
    "fulldatasetpath = r'ar/'\n",
    "\n",
    "metadata = dfAr\n",
    "\n",
    "features = []\n",
    "\n",
    "# Iterate through each sound file and extract the features \n",
    "for index, row in metadata.iterrows():\n",
    "    file_name = os.path.join(os.path.abspath(fulldatasetpath),str(row[\"name\"]))\n",
    "    class_label = row[\"class_name\"]\n",
    "    data = extract_features(file_name)\n",
    "    features.append(data)"
   ]
  },
  {
   "cell_type": "code",
   "execution_count": null,
   "id": "320b0c07",
   "metadata": {},
   "outputs": [],
   "source": [
    "np.save('arabic.npy', features)"
   ]
  },
  {
   "cell_type": "code",
   "execution_count": null,
   "id": "8e42906f",
   "metadata": {},
   "outputs": [],
   "source": [
    "arabic = np.load('arabic.npy') "
   ]
  },
  {
   "cell_type": "code",
   "execution_count": null,
   "id": "cb7151fb",
   "metadata": {},
   "outputs": [],
   "source": [
    "arabic.shape"
   ]
  },
  {
   "cell_type": "markdown",
   "id": "7789f0cb",
   "metadata": {},
   "source": [
    "## English "
   ]
  },
  {
   "cell_type": "code",
   "execution_count": 4,
   "id": "93ec94ea",
   "metadata": {},
   "outputs": [],
   "source": [
    "dfEn=pd.read_csv('english_df.csv')"
   ]
  },
  {
   "cell_type": "code",
   "execution_count": null,
   "id": "509e7ac5",
   "metadata": {},
   "outputs": [],
   "source": [
    "fulldatasetpath = r'en/'\n",
    "\n",
    "metadata = dfEn\n",
    "\n",
    "features = []\n",
    "\n",
    "# Iterate through each sound file and extract the features \n",
    "for index, row in metadata.iterrows():\n",
    "    file_name = os.path.join(os.path.abspath(fulldatasetpath),str(row[\"name\"]))\n",
    "    class_label = row[\"class_name\"]\n",
    "    data = extract_features(file_name)\n",
    "    features.append(data)"
   ]
  },
  {
   "cell_type": "code",
   "execution_count": null,
   "id": "02afa713",
   "metadata": {},
   "outputs": [],
   "source": [
    "np.save('english.npy', features)"
   ]
  },
  {
   "cell_type": "code",
   "execution_count": null,
   "id": "16343236",
   "metadata": {},
   "outputs": [],
   "source": [
    "english = np.load('english.npy') "
   ]
  },
  {
   "cell_type": "code",
   "execution_count": null,
   "id": "ec433c5c",
   "metadata": {},
   "outputs": [],
   "source": [
    "english.shape"
   ]
  },
  {
   "cell_type": "markdown",
   "id": "3e47d737",
   "metadata": {},
   "source": [
    "## Turkish "
   ]
  },
  {
   "cell_type": "code",
   "execution_count": 5,
   "id": "0bdc6511",
   "metadata": {},
   "outputs": [],
   "source": [
    "dfTr=pd.read_csv('turkish_df.csv')"
   ]
  },
  {
   "cell_type": "code",
   "execution_count": null,
   "id": "296a2559",
   "metadata": {},
   "outputs": [],
   "source": [
    "fulldatasetpath = r'tr/'\n",
    "\n",
    "metadata = dfTr\n",
    "\n",
    "features = []\n",
    "\n",
    "# Iterate through each sound file and extract the features \n",
    "for index, row in metadata.iterrows():\n",
    "    file_name = os.path.join(os.path.abspath(fulldatasetpath),str(row[\"name\"]))\n",
    "    class_label = row[\"class_name\"]\n",
    "    data = extract_features(file_name)\n",
    "    features.append(data)"
   ]
  },
  {
   "cell_type": "code",
   "execution_count": null,
   "id": "d507a4bd",
   "metadata": {},
   "outputs": [],
   "source": [
    "np.save('turkish.npy', features)"
   ]
  },
  {
   "cell_type": "code",
   "execution_count": null,
   "id": "9ea6e546",
   "metadata": {},
   "outputs": [],
   "source": [
    "turkish = np.load('turkish.npy') "
   ]
  },
  {
   "cell_type": "code",
   "execution_count": null,
   "id": "c06551bf",
   "metadata": {},
   "outputs": [],
   "source": [
    "turkish.shape"
   ]
  },
  {
   "cell_type": "markdown",
   "id": "47bb92f1",
   "metadata": {},
   "source": [
    "## Korean extraction"
   ]
  },
  {
   "cell_type": "code",
   "execution_count": 133,
   "id": "10e7af88",
   "metadata": {},
   "outputs": [],
   "source": [
    "dfKo = pd.read_csv('korean_df.csv')"
   ]
  },
  {
   "cell_type": "code",
   "execution_count": 134,
   "id": "b51ed4e7",
   "metadata": {},
   "outputs": [],
   "source": [
    "fulldatasetpath = r'ko/'\n",
    "\n",
    "metadata = dfKo\n",
    "\n",
    "features = []\n",
    "\n",
    "# Iterate through each sound file and extract the features \n",
    "for index, row in metadata.iterrows():\n",
    "    file_name = os.path.join(os.path.abspath(fulldatasetpath),str(row[\"name\"]))\n",
    "    class_label = row[\"class_name\"]\n",
    "    data = extract_features(file_name)\n",
    "    features.append(data)"
   ]
  },
  {
   "cell_type": "code",
   "execution_count": 135,
   "id": "54314c5d",
   "metadata": {},
   "outputs": [],
   "source": [
    "np.save('korean.npy', features)"
   ]
  },
  {
   "cell_type": "code",
   "execution_count": 136,
   "id": "4adafbee",
   "metadata": {},
   "outputs": [],
   "source": [
    "korean = np.load('korean.npy') "
   ]
  },
  {
   "cell_type": "code",
   "execution_count": 137,
   "id": "1dc97697",
   "metadata": {},
   "outputs": [
    {
     "data": {
      "text/plain": [
       "(11073, 40)"
      ]
     },
     "execution_count": 137,
     "metadata": {},
     "output_type": "execute_result"
    }
   ],
   "source": [
    "korean.shape"
   ]
  },
  {
   "cell_type": "markdown",
   "id": "16cadc3d",
   "metadata": {},
   "source": [
    "## Japanese"
   ]
  },
  {
   "cell_type": "code",
   "execution_count": 140,
   "id": "a1cd0ea4",
   "metadata": {},
   "outputs": [],
   "source": [
    "dfJa = pd.read_csv('japanese_df.csv')"
   ]
  },
  {
   "cell_type": "code",
   "execution_count": 141,
   "id": "906a2e37",
   "metadata": {},
   "outputs": [],
   "source": [
    "fulldatasetpath = r'ja/'\n",
    "\n",
    "metadata = dfJa\n",
    "\n",
    "features = []\n",
    "\n",
    "# Iterate through each sound file and extract the features \n",
    "for index, row in metadata.iterrows():\n",
    "    file_name = os.path.join(os.path.abspath(fulldatasetpath),str(row[\"name\"]))\n",
    "    class_label = row[\"class_name\"]\n",
    "    data = extract_features(file_name)\n",
    "    features.append(data)"
   ]
  },
  {
   "cell_type": "code",
   "execution_count": 142,
   "id": "c836ba07",
   "metadata": {},
   "outputs": [],
   "source": [
    "np.save('japanese.npy', features)"
   ]
  },
  {
   "cell_type": "code",
   "execution_count": 143,
   "id": "94675521",
   "metadata": {},
   "outputs": [],
   "source": [
    "japanese = np.load('japanese.npy') "
   ]
  },
  {
   "cell_type": "code",
   "execution_count": 144,
   "id": "4bc1e53e",
   "metadata": {},
   "outputs": [
    {
     "data": {
      "text/plain": [
       "(8035, 40)"
      ]
     },
     "execution_count": 144,
     "metadata": {},
     "output_type": "execute_result"
    }
   ],
   "source": [
    "japanese.shape"
   ]
  },
  {
   "cell_type": "markdown",
   "id": "e798b45a",
   "metadata": {},
   "source": [
    "## Spanish"
   ]
  },
  {
   "cell_type": "code",
   "execution_count": 148,
   "id": "bd6d9816",
   "metadata": {},
   "outputs": [],
   "source": [
    "dfSp = pd.read_csv('spanish.csv')"
   ]
  },
  {
   "cell_type": "code",
   "execution_count": 149,
   "id": "00f7f6fb",
   "metadata": {},
   "outputs": [],
   "source": [
    "fulldatasetpath = r'es/'\n",
    "\n",
    "metadata = dfSp\n",
    "\n",
    "features = []\n",
    "\n",
    "# Iterate through each sound file and extract the features \n",
    "for index, row in metadata.iterrows():\n",
    "    file_name = os.path.join(os.path.abspath(fulldatasetpath),str(row[\"name\"]))\n",
    "    class_label = row[\"class_name\"]\n",
    "    data = extract_features(file_name)\n",
    "    features.append(data)"
   ]
  },
  {
   "cell_type": "code",
   "execution_count": 150,
   "id": "6358fc42",
   "metadata": {},
   "outputs": [],
   "source": [
    "np.save('spanish.npy', features)"
   ]
  },
  {
   "cell_type": "code",
   "execution_count": 151,
   "id": "eaac158d",
   "metadata": {},
   "outputs": [],
   "source": [
    "spanish =  np.load('spanish.npy') "
   ]
  },
  {
   "cell_type": "code",
   "execution_count": 152,
   "id": "c4c274ae",
   "metadata": {},
   "outputs": [
    {
     "data": {
      "text/plain": [
       "(6667, 40)"
      ]
     },
     "execution_count": 152,
     "metadata": {},
     "output_type": "execute_result"
    }
   ],
   "source": [
    "spanish.shape"
   ]
  },
  {
   "cell_type": "markdown",
   "id": "e2294bd3",
   "metadata": {},
   "source": [
    "# with padding"
   ]
  },
  {
   "cell_type": "code",
   "execution_count": 153,
   "id": "76c7c1d8",
   "metadata": {},
   "outputs": [],
   "source": [
    "def extract_features_Padding(file_name):\n",
    "    max_pad_len = 1000\n",
    "\n",
    "    try:\n",
    "        audio, sample_rate = librosa.load(file_name, res_type='kaiser_fast') \n",
    "        mfccs = librosa.feature.mfcc(y=audio, sr=sample_rate, n_mfcc=40)\n",
    "        pad_width = max_pad_len - mfccs.shape[1]\n",
    "        mfccs = np.pad(mfccs, pad_width=((0, 0), (0, pad_width)), mode='constant')\n",
    "        \n",
    "    except Exception as e:\n",
    "        print(\"Error encountered while parsing file: \", file_name)\n",
    "        return None \n",
    "     \n",
    "    return mfccs"
   ]
  },
  {
   "cell_type": "markdown",
   "id": "83d5008e",
   "metadata": {},
   "source": [
    "## Arabic"
   ]
  },
  {
   "cell_type": "code",
   "execution_count": null,
   "id": "746f1db6",
   "metadata": {},
   "outputs": [],
   "source": [
    "dfAr=pd.read_csv('arabic_df.csv')"
   ]
  },
  {
   "cell_type": "code",
   "execution_count": null,
   "id": "762f0c0e",
   "metadata": {},
   "outputs": [],
   "source": [
    "fulldatasetpath = r'ar/'\n",
    "\n",
    "metadata = dfAr\n",
    "\n",
    "features = []\n",
    "\n",
    "# Iterate through each sound file and extract the features \n",
    "for index, row in metadata.iterrows():\n",
    "    file_name = os.path.join(os.path.abspath(fulldatasetpath),str(row[\"name\"]))\n",
    "    class_label = row[\"class_name\"]\n",
    "    data = extract_features(file_name)\n",
    "    features.append(data)"
   ]
  },
  {
   "cell_type": "code",
   "execution_count": null,
   "id": "769f437d",
   "metadata": {},
   "outputs": [],
   "source": [
    "np.save('arabicP.npy', features)"
   ]
  },
  {
   "cell_type": "code",
   "execution_count": null,
   "id": "f1ed9ebe",
   "metadata": {},
   "outputs": [],
   "source": [
    "arabicP = np.load('arabicP.npy')"
   ]
  },
  {
   "cell_type": "code",
   "execution_count": null,
   "id": "5a517e65",
   "metadata": {},
   "outputs": [],
   "source": [
    "arabicP.shape"
   ]
  },
  {
   "cell_type": "markdown",
   "id": "7fde0a4b",
   "metadata": {},
   "source": [
    "## English"
   ]
  },
  {
   "cell_type": "code",
   "execution_count": null,
   "id": "8a7c6a67",
   "metadata": {},
   "outputs": [],
   "source": [
    "dfEn=pd.read_csv('english_df.csv')"
   ]
  },
  {
   "cell_type": "code",
   "execution_count": null,
   "id": "0fbe2d4b",
   "metadata": {},
   "outputs": [],
   "source": [
    "fulldatasetpath = r'en/'\n",
    "\n",
    "metadata = dfEn\n",
    "\n",
    "features = []\n",
    "\n",
    "# Iterate through each sound file and extract the features \n",
    "for index, row in metadata.iterrows():\n",
    "    file_name = os.path.join(os.path.abspath(fulldatasetpath),str(row[\"name\"]))\n",
    "    class_label = row[\"class_name\"]\n",
    "    data = extract_features(file_name)\n",
    "    features.append(data)"
   ]
  },
  {
   "cell_type": "code",
   "execution_count": null,
   "id": "48d71be8",
   "metadata": {},
   "outputs": [],
   "source": [
    "np.save('englishP.npy', features)"
   ]
  },
  {
   "cell_type": "code",
   "execution_count": null,
   "id": "a1ba841f",
   "metadata": {},
   "outputs": [],
   "source": [
    "englishP = np.load('englishP.npy')"
   ]
  },
  {
   "cell_type": "code",
   "execution_count": null,
   "id": "58f23d95",
   "metadata": {},
   "outputs": [],
   "source": [
    "englishP.shape"
   ]
  },
  {
   "cell_type": "markdown",
   "id": "a84bf549",
   "metadata": {},
   "source": [
    "## Turkish"
   ]
  },
  {
   "cell_type": "code",
   "execution_count": null,
   "id": "254c0b65",
   "metadata": {},
   "outputs": [],
   "source": [
    "dfTr=pd.read_csv('turkish_df.csv')"
   ]
  },
  {
   "cell_type": "code",
   "execution_count": null,
   "id": "2fb5d0fa",
   "metadata": {},
   "outputs": [],
   "source": [
    "fulldatasetpath = r'tr/'\n",
    "\n",
    "metadata = dfTr\n",
    "\n",
    "features = []\n",
    "\n",
    "# Iterate through each sound file and extract the features \n",
    "for index, row in metadata.iterrows():\n",
    "    file_name = os.path.join(os.path.abspath(fulldatasetpath),str(row[\"name\"]))\n",
    "    class_label = row[\"class_name\"]\n",
    "    data = extract_features(file_name)\n",
    "    features.append(data)"
   ]
  },
  {
   "cell_type": "code",
   "execution_count": null,
   "id": "5cba9a41",
   "metadata": {},
   "outputs": [],
   "source": [
    "np.save('turkishP.npy', features)"
   ]
  },
  {
   "cell_type": "code",
   "execution_count": null,
   "id": "72a2e7d4",
   "metadata": {},
   "outputs": [],
   "source": [
    "turkishP = np.load('turkishP.npy') "
   ]
  },
  {
   "cell_type": "code",
   "execution_count": null,
   "id": "3b18906b",
   "metadata": {},
   "outputs": [],
   "source": [
    "turkishP.shape"
   ]
  },
  {
   "cell_type": "markdown",
   "id": "0769b1fb",
   "metadata": {},
   "source": [
    "## Korean"
   ]
  },
  {
   "cell_type": "code",
   "execution_count": 154,
   "id": "64be1a82",
   "metadata": {},
   "outputs": [],
   "source": [
    "dfKo = pd.read_csv('korean_df.csv')"
   ]
  },
  {
   "cell_type": "code",
   "execution_count": 155,
   "id": "f476659e",
   "metadata": {},
   "outputs": [],
   "source": [
    "fulldatasetpath = r'ko/'\n",
    "\n",
    "metadata = dfKo\n",
    "\n",
    "features = []\n",
    "\n",
    "# Iterate through each sound file and extract the features \n",
    "for index, row in metadata.iterrows():\n",
    "    file_name = os.path.join(os.path.abspath(fulldatasetpath),str(row[\"name\"]))\n",
    "    class_label = row[\"class_name\"]\n",
    "    data = extract_features(file_name)\n",
    "    features.append(data)"
   ]
  },
  {
   "cell_type": "code",
   "execution_count": 156,
   "id": "e4e77627",
   "metadata": {},
   "outputs": [],
   "source": [
    "np.save('koreanP.npy', features)"
   ]
  },
  {
   "cell_type": "code",
   "execution_count": 157,
   "id": "1d047ed1",
   "metadata": {},
   "outputs": [],
   "source": [
    "koreanP = np.load('koreanP.npy') "
   ]
  },
  {
   "cell_type": "code",
   "execution_count": 158,
   "id": "3617c07c",
   "metadata": {},
   "outputs": [
    {
     "data": {
      "text/plain": [
       "(11073, 40)"
      ]
     },
     "execution_count": 158,
     "metadata": {},
     "output_type": "execute_result"
    }
   ],
   "source": [
    "koreanP.shape"
   ]
  },
  {
   "cell_type": "markdown",
   "id": "edadb86d",
   "metadata": {},
   "source": [
    "## Japanese"
   ]
  },
  {
   "cell_type": "code",
   "execution_count": 159,
   "id": "6f8c5286",
   "metadata": {},
   "outputs": [],
   "source": [
    "dfJa = pd.read_csv('japanese_df.csv')"
   ]
  },
  {
   "cell_type": "code",
   "execution_count": 160,
   "id": "011abf22",
   "metadata": {},
   "outputs": [],
   "source": [
    "fulldatasetpath = r'ja/'\n",
    "\n",
    "metadata = dfJa\n",
    "\n",
    "features = []\n",
    "\n",
    "# Iterate through each sound file and extract the features \n",
    "for index, row in metadata.iterrows():\n",
    "    file_name = os.path.join(os.path.abspath(fulldatasetpath),str(row[\"name\"]))\n",
    "    class_label = row[\"class_name\"]\n",
    "    data = extract_features(file_name)\n",
    "    features.append(data)"
   ]
  },
  {
   "cell_type": "code",
   "execution_count": 161,
   "id": "1f2959e3",
   "metadata": {},
   "outputs": [],
   "source": [
    "np.save('japaneseP.npy', features)"
   ]
  },
  {
   "cell_type": "code",
   "execution_count": 162,
   "id": "3413ed9c",
   "metadata": {},
   "outputs": [],
   "source": [
    "japaneseP = np.load('japaneseP.npy') "
   ]
  },
  {
   "cell_type": "code",
   "execution_count": 163,
   "id": "65f135f4",
   "metadata": {},
   "outputs": [
    {
     "data": {
      "text/plain": [
       "(8035, 40)"
      ]
     },
     "execution_count": 163,
     "metadata": {},
     "output_type": "execute_result"
    }
   ],
   "source": [
    "japaneseP.shape"
   ]
  },
  {
   "cell_type": "markdown",
   "id": "3db61a15",
   "metadata": {},
   "source": [
    "## Spanish"
   ]
  },
  {
   "cell_type": "code",
   "execution_count": 165,
   "id": "9dcfb3df",
   "metadata": {},
   "outputs": [],
   "source": [
    "dfSp = pd.read_csv('spanish.csv')"
   ]
  },
  {
   "cell_type": "code",
   "execution_count": 166,
   "id": "a3d5dbfb",
   "metadata": {},
   "outputs": [],
   "source": [
    "fulldatasetpath = r'es/'\n",
    "\n",
    "metadata = dfSp\n",
    "\n",
    "features = []\n",
    "\n",
    "# Iterate through each sound file and extract the features \n",
    "for index, row in metadata.iterrows():\n",
    "    file_name = os.path.join(os.path.abspath(fulldatasetpath),str(row[\"name\"]))\n",
    "    class_label = row[\"class_name\"]\n",
    "    data = extract_features(file_name)\n",
    "    features.append(data)"
   ]
  },
  {
   "cell_type": "code",
   "execution_count": 167,
   "id": "2f112204",
   "metadata": {},
   "outputs": [],
   "source": [
    "np.save('spanishP.npy', features)"
   ]
  },
  {
   "cell_type": "code",
   "execution_count": 168,
   "id": "440c5136",
   "metadata": {},
   "outputs": [],
   "source": [
    "spanishP = np.load('spanishP.npy') "
   ]
  },
  {
   "cell_type": "code",
   "execution_count": 169,
   "id": "9cb51fa6",
   "metadata": {},
   "outputs": [
    {
     "data": {
      "text/plain": [
       "(6667, 40)"
      ]
     },
     "execution_count": 169,
     "metadata": {},
     "output_type": "execute_result"
    }
   ],
   "source": [
    "spanishP.shape"
   ]
  }
 ],
 "metadata": {
  "kernelspec": {
   "display_name": "Python 3 (ipykernel)",
   "language": "python",
   "name": "python3"
  },
  "language_info": {
   "codemirror_mode": {
    "name": "ipython",
    "version": 3
   },
   "file_extension": ".py",
   "mimetype": "text/x-python",
   "name": "python",
   "nbconvert_exporter": "python",
   "pygments_lexer": "ipython3",
   "version": "3.9.12"
  }
 },
 "nbformat": 4,
 "nbformat_minor": 5
}
