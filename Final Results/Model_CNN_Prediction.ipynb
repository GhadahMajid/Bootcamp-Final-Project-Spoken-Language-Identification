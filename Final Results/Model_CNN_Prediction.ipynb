{
 "cells": [
  {
   "cell_type": "code",
   "execution_count": 2,
   "id": "090a85fc",
   "metadata": {},
   "outputs": [],
   "source": [
    "import warnings\n",
    "warnings.filterwarnings(\"ignore\")\n",
    "\n",
    "import librosa \n",
    "import numpy as np\n",
    "from tensorflow.keras.utils import to_categorical"
   ]
  },
  {
   "cell_type": "markdown",
   "id": "01839aec",
   "metadata": {},
   "source": [
    "## Load The model"
   ]
  },
  {
   "cell_type": "code",
   "execution_count": 11,
   "id": "cccaed57",
   "metadata": {},
   "outputs": [],
   "source": [
    "from keras.models import load_model\n",
    "\n",
    "model = load_model('model_CNN.hdf5')"
   ]
  },
  {
   "cell_type": "code",
   "execution_count": 12,
   "id": "6950c54f",
   "metadata": {},
   "outputs": [],
   "source": [
    "max_pad_len = 1000\n",
    "Lang_cat = ['Arabic', 'English', 'Japanese', 'Korean', 'Turkish']\n",
    "\n",
    "def extract_features(file_name):\n",
    "    try:\n",
    "        audio, sample_rate = librosa.load(file_name, res_type='kaiser_fast') \n",
    "        mfccs = librosa.feature.mfcc(y=audio, sr=sample_rate, n_mfcc=40)\n",
    "        pad_width = max_pad_len - mfccs.shape[1]\n",
    "        mfccs = np.pad(mfccs, pad_width=((0, 0), (0, pad_width)), mode='constant')\n",
    "    except Exception as e:\n",
    "        print(\"Error encountered while parsing file: \", file_name)\n",
    "        return None \n",
    "    \n",
    "    return mfccs\n",
    "\n",
    "\n",
    "def print_prediction(file_name):\n",
    "    num_rows = 40 \n",
    "    num_columns = max_pad_len\n",
    "    num_channels = 1\n",
    "    num_labels = 5\n",
    "    prediction_feature = extract_features(file_name) \n",
    "    prediction_feature = prediction_feature.reshape(1, num_rows, num_columns, num_channels)\n",
    "\n",
    "    predicted_vector = model.predict(prediction_feature, verbose=0)\n",
    "    predicted_vector = to_categorical(np.argmax(predicted_vector, axis=1), num_labels)\n",
    "    print(predicted_vector[0])\n",
    "    x = np.where(predicted_vector[0] == 1)[0][0]\n",
    "    print(\"The predicted class is:\", Lang_cat[x], '\\n') \n",
    "    \n",
    "    predicted_proba_vector = model.predict(prediction_feature, verbose=0) \n",
    "    predicted_proba = predicted_proba_vector[0]\n",
    "    Labels = np.array(Lang_cat)\n",
    "    print('Result probability for each class:')\n",
    "    for i in range(len(Labels)): \n",
    "        print(Labels[i], \": \", format(predicted_proba[i], '.8f'))"
   ]
  },
  {
   "cell_type": "markdown",
   "id": "57810c79",
   "metadata": {},
   "source": [
    "# Model Validation (Separate Predictions)"
   ]
  },
  {
   "cell_type": "code",
   "execution_count": 13,
   "id": "da8c04a1",
   "metadata": {},
   "outputs": [
    {
     "name": "stdout",
     "output_type": "stream",
     "text": [
      "[0. 0. 0. 0. 1.]\n",
      "The predicted class is: Turkish \n",
      "\n",
      "Result probability for each class:\n",
      "Arabic :  0.12808888\n",
      "English :  0.20594531\n",
      "Japanese :  0.00045710\n",
      "Korean :  0.04124434\n",
      "Turkish :  0.62426442\n"
     ]
    }
   ],
   "source": [
    "# English\n",
    "filename = 'en.wav' \n",
    "print_prediction(filename) "
   ]
  },
  {
   "cell_type": "code",
   "execution_count": 14,
   "id": "7b2d9ae5",
   "metadata": {},
   "outputs": [
    {
     "name": "stdout",
     "output_type": "stream",
     "text": [
      "[0. 0. 1. 0. 0.]\n",
      "The predicted class is: Japanese \n",
      "\n",
      "Result probability for each class:\n",
      "Arabic :  0.22828518\n",
      "English :  0.15644225\n",
      "Japanese :  0.31908435\n",
      "Korean :  0.18514086\n",
      "Turkish :  0.11104739\n"
     ]
    }
   ],
   "source": [
    "# English\n",
    "filename = 'en_me.wav' \n",
    "print_prediction(filename) "
   ]
  },
  {
   "cell_type": "code",
   "execution_count": 15,
   "id": "c86c4fda",
   "metadata": {},
   "outputs": [
    {
     "name": "stdout",
     "output_type": "stream",
     "text": [
      "[1. 0. 0. 0. 0.]\n",
      "The predicted class is: Arabic \n",
      "\n",
      "Result probability for each class:\n",
      "Arabic :  0.98465848\n",
      "English :  0.00268164\n",
      "Japanese :  0.00254879\n",
      "Korean :  0.00550372\n",
      "Turkish :  0.00460728\n"
     ]
    }
   ],
   "source": [
    "# Arabic\n",
    "filename = 'ar.wav' \n",
    "print_prediction(filename) "
   ]
  },
  {
   "cell_type": "code",
   "execution_count": 16,
   "id": "183e64fe",
   "metadata": {},
   "outputs": [
    {
     "name": "stdout",
     "output_type": "stream",
     "text": [
      "[1. 0. 0. 0. 0.]\n",
      "The predicted class is: Arabic \n",
      "\n",
      "Result probability for each class:\n",
      "Arabic :  0.68790197\n",
      "English :  0.03187776\n",
      "Japanese :  0.00103060\n",
      "Korean :  0.27879646\n",
      "Turkish :  0.00039322\n"
     ]
    }
   ],
   "source": [
    "# Arabic\n",
    "filename = 'ar_me.wav' \n",
    "print_prediction(filename) "
   ]
  },
  {
   "cell_type": "code",
   "execution_count": 17,
   "id": "f94ed490",
   "metadata": {},
   "outputs": [
    {
     "name": "stdout",
     "output_type": "stream",
     "text": [
      "[0. 0. 0. 1. 0.]\n",
      "The predicted class is: Korean \n",
      "\n",
      "Result probability for each class:\n",
      "Arabic :  0.06728132\n",
      "English :  0.00976818\n",
      "Japanese :  0.18734556\n",
      "Korean :  0.73546141\n",
      "Turkish :  0.00014350\n"
     ]
    }
   ],
   "source": [
    "# Korean\n",
    "filename = 'ko_me.wav' \n",
    "print_prediction(filename)"
   ]
  },
  {
   "cell_type": "code",
   "execution_count": 18,
   "id": "6a963134",
   "metadata": {},
   "outputs": [
    {
     "name": "stdout",
     "output_type": "stream",
     "text": [
      "[0. 0. 0. 1. 0.]\n",
      "The predicted class is: Korean \n",
      "\n",
      "Result probability for each class:\n",
      "Arabic :  0.20000331\n",
      "English :  0.00076800\n",
      "Japanese :  0.00780032\n",
      "Korean :  0.78254467\n",
      "Turkish :  0.00888369\n"
     ]
    }
   ],
   "source": [
    "# Japanese\n",
    "filename = 'jp_me.wav' \n",
    "print_prediction(filename) "
   ]
  }
 ],
 "metadata": {
  "kernelspec": {
   "display_name": "Python 3 (ipykernel)",
   "language": "python",
   "name": "python3"
  },
  "language_info": {
   "codemirror_mode": {
    "name": "ipython",
    "version": 3
   },
   "file_extension": ".py",
   "mimetype": "text/x-python",
   "name": "python",
   "nbconvert_exporter": "python",
   "pygments_lexer": "ipython3",
   "version": "3.9.7"
  }
 },
 "nbformat": 4,
 "nbformat_minor": 5
}
